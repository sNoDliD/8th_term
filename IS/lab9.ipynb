{
 "cells": [
  {
   "cell_type": "code",
   "execution_count": null,
   "id": "2a13c4dd",
   "metadata": {
    "is_executing": true
   },
   "outputs": [],
   "source": [
    "import os\n",
    "\n",
    "import matplotlib.pyplot as plt\n",
    "import numpy as np\n",
    "import pandas as pd\n",
    "import tensorflow as tf\n",
    "from keras.optimizers import Adam\n",
    "from sklearn.model_selection import train_test_split\n",
    "from sklearn.preprocessing import LabelEncoder\n",
    "from tensorflow import keras"
   ]
  },
  {
   "cell_type": "code",
   "execution_count": 6,
   "id": "05655f53",
   "metadata": {},
   "outputs": [],
   "source": [
    "df = pd.read_csv('Diamonds Prices2022.csv')"
   ]
  },
  {
   "cell_type": "code",
   "execution_count": 7,
   "id": "55331927",
   "metadata": {},
   "outputs": [],
   "source": [
    "df = df.drop('Unnamed: 0', axis=1)"
   ]
  },
  {
   "cell_type": "code",
   "execution_count": 8,
   "id": "a76e5f1e",
   "metadata": {},
   "outputs": [],
   "source": [
    "df['dimensions'] = df['x'] * df['y'] * df['z']\n",
    "df = df[['carat', 'cut', 'color', 'clarity', 'depth', 'table', 'dimensions', 'price']]\n",
    "labelencoder = LabelEncoder()\n",
    "df['cut'] = labelencoder.fit_transform(df['cut'])\n",
    "df['color'] = labelencoder.fit_transform(df['color'])\n",
    "df['clarity'] = labelencoder.fit_transform(df['clarity'])"
   ]
  },
  {
   "cell_type": "code",
   "execution_count": 9,
   "id": "7e35b4bf",
   "metadata": {},
   "outputs": [],
   "source": [
    "X = df.drop(['price'], axis=1)\n",
    "y = df['price']"
   ]
  },
  {
   "cell_type": "code",
   "execution_count": 10,
   "id": "13821774",
   "metadata": {},
   "outputs": [
    {
     "data": {
      "text/html": [
       "<div>\n",
       "<style scoped>\n",
       "    .dataframe tbody tr th:only-of-type {\n",
       "        vertical-align: middle;\n",
       "    }\n",
       "\n",
       "    .dataframe tbody tr th {\n",
       "        vertical-align: top;\n",
       "    }\n",
       "\n",
       "    .dataframe thead th {\n",
       "        text-align: right;\n",
       "    }\n",
       "</style>\n",
       "<table border=\"1\" class=\"dataframe\">\n",
       "  <thead>\n",
       "    <tr style=\"text-align: right;\">\n",
       "      <th></th>\n",
       "      <th>carat</th>\n",
       "      <th>cut</th>\n",
       "      <th>color</th>\n",
       "      <th>clarity</th>\n",
       "      <th>depth</th>\n",
       "      <th>table</th>\n",
       "      <th>dimensions</th>\n",
       "    </tr>\n",
       "  </thead>\n",
       "  <tbody>\n",
       "    <tr>\n",
       "      <th>0</th>\n",
       "      <td>0.23</td>\n",
       "      <td>2</td>\n",
       "      <td>1</td>\n",
       "      <td>3</td>\n",
       "      <td>61.5</td>\n",
       "      <td>55.0</td>\n",
       "      <td>38.202030</td>\n",
       "    </tr>\n",
       "    <tr>\n",
       "      <th>1</th>\n",
       "      <td>0.21</td>\n",
       "      <td>3</td>\n",
       "      <td>1</td>\n",
       "      <td>2</td>\n",
       "      <td>59.8</td>\n",
       "      <td>61.0</td>\n",
       "      <td>34.505856</td>\n",
       "    </tr>\n",
       "    <tr>\n",
       "      <th>2</th>\n",
       "      <td>0.23</td>\n",
       "      <td>1</td>\n",
       "      <td>1</td>\n",
       "      <td>4</td>\n",
       "      <td>56.9</td>\n",
       "      <td>65.0</td>\n",
       "      <td>38.076885</td>\n",
       "    </tr>\n",
       "    <tr>\n",
       "      <th>3</th>\n",
       "      <td>0.29</td>\n",
       "      <td>3</td>\n",
       "      <td>5</td>\n",
       "      <td>5</td>\n",
       "      <td>62.4</td>\n",
       "      <td>58.0</td>\n",
       "      <td>46.724580</td>\n",
       "    </tr>\n",
       "    <tr>\n",
       "      <th>4</th>\n",
       "      <td>0.31</td>\n",
       "      <td>1</td>\n",
       "      <td>6</td>\n",
       "      <td>3</td>\n",
       "      <td>63.3</td>\n",
       "      <td>58.0</td>\n",
       "      <td>51.917250</td>\n",
       "    </tr>\n",
       "  </tbody>\n",
       "</table>\n",
       "</div>"
      ],
      "text/plain": [
       "   carat  cut  color  clarity  depth  table  dimensions\n",
       "0   0.23    2      1        3   61.5   55.0   38.202030\n",
       "1   0.21    3      1        2   59.8   61.0   34.505856\n",
       "2   0.23    1      1        4   56.9   65.0   38.076885\n",
       "3   0.29    3      5        5   62.4   58.0   46.724580\n",
       "4   0.31    1      6        3   63.3   58.0   51.917250"
      ]
     },
     "execution_count": 10,
     "metadata": {},
     "output_type": "execute_result"
    }
   ],
   "source": [
    "X.head()"
   ]
  },
  {
   "cell_type": "code",
   "execution_count": 11,
   "id": "db045f77",
   "metadata": {},
   "outputs": [],
   "source": [
    "X_train_full, X_test, y_train_full, y_test = train_test_split(X, y, test_size=0.2, random_state=42)"
   ]
  },
  {
   "cell_type": "code",
   "execution_count": 12,
   "id": "ca27840f",
   "metadata": {},
   "outputs": [],
   "source": [
    "X_train, X_val, y_train, y_val = train_test_split(X_train_full, y_train_full, test_size=0.2, random_state=42)"
   ]
  },
  {
   "cell_type": "code",
   "execution_count": 13,
   "id": "9c74de88",
   "metadata": {},
   "outputs": [
    {
     "data": {
      "text/plain": [
       "(34523, 7)"
      ]
     },
     "execution_count": 13,
     "metadata": {},
     "output_type": "execute_result"
    }
   ],
   "source": [
    "X_train.shape"
   ]
  },
  {
   "cell_type": "code",
   "execution_count": 25,
   "id": "1c3b1849",
   "metadata": {},
   "outputs": [],
   "source": [
    "y_train = y_train.to_numpy().reshape(-1)"
   ]
  },
  {
   "cell_type": "code",
   "execution_count": 27,
   "id": "6603cc7c",
   "metadata": {},
   "outputs": [
    {
     "data": {
      "text/plain": [
       "(34523,)"
      ]
     },
     "execution_count": 27,
     "metadata": {},
     "output_type": "execute_result"
    }
   ],
   "source": [
    "y_train.shape"
   ]
  },
  {
   "cell_type": "code",
   "execution_count": 100,
   "id": "df751a5d",
   "metadata": {},
   "outputs": [],
   "source": [
    "K = keras.backend\n",
    "\n",
    "\n",
    "class ExponentialLearningRate(keras.callbacks.Callback):\n",
    "    def __init__(self, factor):\n",
    "        self.factor = factor\n",
    "        self.rates = []\n",
    "        self.losses = []\n",
    "\n",
    "    def on_batch_end(self, batch, logs):\n",
    "        self.rates.append(K.get_value(self.model.optimizer.learning_rate))\n",
    "        self.losses.append(logs[\"loss\"])\n",
    "        K.set_value(self.model.optimizer.learning_rate, self.model.optimizer.learning_rate * self.factor)\n"
   ]
  },
  {
   "cell_type": "code",
   "execution_count": 101,
   "id": "477b82db",
   "metadata": {},
   "outputs": [],
   "source": [
    "keras.backend.clear_session()\n",
    "np.random.seed(42)\n",
    "tf.random.set_seed(42)"
   ]
  },
  {
   "cell_type": "code",
   "execution_count": 102,
   "id": "2338a7a6",
   "metadata": {},
   "outputs": [],
   "source": [
    "model = keras.models.Sequential([\n",
    "    keras.layers.Dense(300, activation=\"relu\"),\n",
    "    keras.layers.Dense(100, activation=\"relu\"),\n",
    "    keras.layers.Dense(1, activation=\"relu\")\n",
    "])"
   ]
  },
  {
   "cell_type": "code",
   "execution_count": 103,
   "id": "b632b0e4",
   "metadata": {},
   "outputs": [],
   "source": [
    "model.compile(loss='mean_squared_error', optimizer=Adam(learning_rate=1e-3))\n",
    "expon_lr = ExponentialLearningRate(factor=1.005)"
   ]
  },
  {
   "cell_type": "code",
   "execution_count": 104,
   "id": "9048c1d4",
   "metadata": {},
   "outputs": [
    {
     "name": "stdout",
     "output_type": "stream",
     "text": [
      "1079/1079 [==============================] - 2s 2ms/step - loss: 4987182.0000 - val_loss: 1796460.0000\n"
     ]
    }
   ],
   "source": [
    "history = model.fit(X_train, y_train, epochs=1,\n",
    "                    validation_data=(X_val, y_val),\n",
    "                    callbacks=[expon_lr])"
   ]
  },
  {
   "cell_type": "code",
   "execution_count": 105,
   "id": "540d29c6",
   "metadata": {},
   "outputs": [
    {
     "data": {
      "text/plain": [
       "Text(0, 0.5, 'Loss')"
      ]
     },
     "execution_count": 105,
     "metadata": {},
     "output_type": "execute_result"
    },
    {
     "data": {
      "image/png": "[encoded data removed]",
      "text/plain": [
       "<Figure size 432x288 with 1 Axes>"
      ]
     },
     "metadata": {
      "needs_background": "light"
     },
     "output_type": "display_data"
    }
   ],
   "source": [
    "plt.plot(expon_lr.rates, expon_lr.losses)\n",
    "plt.gca().set_xscale('log')\n",
    "plt.hlines(min(expon_lr.losses), min(expon_lr.rates), max(expon_lr.rates))\n",
    "plt.axis([min(expon_lr.rates), max(expon_lr.rates), 0, expon_lr.losses[0]])\n",
    "plt.grid()\n",
    "plt.xlabel(\"Learning rate\")\n",
    "plt.ylabel(\"Loss\")"
   ]
  },
  {
   "cell_type": "code",
   "execution_count": 106,
   "id": "1e04848e",
   "metadata": {},
   "outputs": [
    {
     "data": {
      "text/plain": [
       "'./my_diamonts_logs/run_001'"
      ]
     },
     "execution_count": 106,
     "metadata": {},
     "output_type": "execute_result"
    }
   ],
   "source": [
    "run_index = 1\n",
    "run_logdir = os.path.join(os.curdir, \"my_diamonts_logs\", \"run_{:03d}\".format(run_index))\n",
    "run_logdir"
   ]
  },
  {
   "cell_type": "code",
   "execution_count": 108,
   "id": "3b59a50d",
   "metadata": {},
   "outputs": [],
   "source": [
    "keras.backend.clear_session()\n",
    "np.random.seed(42)\n",
    "tf.random.set_seed(42)"
   ]
  },
  {
   "cell_type": "code",
   "execution_count": 109,
   "id": "43d15e56",
   "metadata": {},
   "outputs": [],
   "source": [
    "model = keras.models.Sequential([\n",
    "    keras.layers.Dense(300, activation=\"relu\"),\n",
    "    keras.layers.Dense(100, activation=\"relu\"),\n",
    "    keras.layers.Dense(1, activation=\"relu\")\n",
    "])"
   ]
  },
  {
   "cell_type": "code",
   "execution_count": 110,
   "id": "f14cb894",
   "metadata": {},
   "outputs": [],
   "source": [
    "model.compile(loss='mean_squared_error', optimizer=Adam(learning_rate=5e-4))\n",
    "expon_lr = ExponentialLearningRate(factor=1.005)"
   ]
  },
  {
   "cell_type": "code",
   "execution_count": 111,
   "id": "5619102c",
   "metadata": {},
   "outputs": [
    {
     "name": "stdout",
     "output_type": "stream",
     "text": [
      "Epoch 1/100\n",
      "1079/1079 [==============================] - 2s 1ms/step - loss: 6828706.0000 - val_loss: 2235541.5000\n",
      "Epoch 2/100\n",
      "1079/1079 [==============================] - 1s 1ms/step - loss: 2989327.0000 - val_loss: 1839012.3750\n",
      "Epoch 3/100\n",
      "1079/1079 [==============================] - 1s 1ms/step - loss: 2679967.5000 - val_loss: 1817535.5000\n",
      "Epoch 4/100\n",
      "1079/1079 [==============================] - 1s 1ms/step - loss: 2419369.0000 - val_loss: 1546853.3750\n",
      "Epoch 5/100\n",
      "1079/1079 [==============================] - 1s 1ms/step - loss: 2193269.0000 - val_loss: 1441745.0000\n",
      "Epoch 6/100\n",
      "1079/1079 [==============================] - 1s 1ms/step - loss: 2026685.6250 - val_loss: 1490151.6250\n",
      "Epoch 7/100\n",
      "1079/1079 [==============================] - 1s 1ms/step - loss: 1868548.7500 - val_loss: 1343665.5000\n",
      "Epoch 8/100\n",
      "1079/1079 [==============================] - 1s 1ms/step - loss: 1745293.1250 - val_loss: 1429427.2500\n",
      "Epoch 9/100\n",
      "1079/1079 [==============================] - 1s 1ms/step - loss: 1639553.6250 - val_loss: 1249327.8750\n",
      "Epoch 10/100\n",
      "1079/1079 [==============================] - 1s 1ms/step - loss: 1550630.5000 - val_loss: 1243693.5000\n",
      "Epoch 11/100\n",
      "1079/1079 [==============================] - 1s 1ms/step - loss: 1471148.3750 - val_loss: 1199299.2500\n",
      "Epoch 12/100\n",
      "1079/1079 [==============================] - 1s 1ms/step - loss: 1400652.1250 - val_loss: 1177245.7500\n",
      "Epoch 13/100\n",
      "1079/1079 [==============================] - 2s 2ms/step - loss: 1356962.7500 - val_loss: 1178670.3750\n",
      "Epoch 14/100\n",
      "1079/1079 [==============================] - 1s 1ms/step - loss: 1307489.7500 - val_loss: 1167708.0000\n",
      "Epoch 15/100\n",
      "1079/1079 [==============================] - 1s 1ms/step - loss: 1268894.5000 - val_loss: 1174688.8750\n",
      "Epoch 16/100\n",
      "1079/1079 [==============================] - 1s 1ms/step - loss: 1240534.8750 - val_loss: 1165045.3750\n",
      "Epoch 17/100\n",
      "1079/1079 [==============================] - 1s 1ms/step - loss: 1213511.1250 - val_loss: 1179408.1250\n",
      "Epoch 18/100\n",
      "1079/1079 [==============================] - 1s 1ms/step - loss: 1192645.5000 - val_loss: 1146908.6250\n",
      "Epoch 19/100\n",
      "1079/1079 [==============================] - 1s 1ms/step - loss: 1181423.3750 - val_loss: 1158596.3750\n",
      "Epoch 20/100\n",
      "1079/1079 [==============================] - 1s 953us/step - loss: 1167568.1250 - val_loss: 1138208.3750\n",
      "Epoch 21/100\n",
      "1079/1079 [==============================] - 1s 1ms/step - loss: 1161997.3750 - val_loss: 1135492.5000\n",
      "Epoch 22/100\n",
      "1079/1079 [==============================] - 1s 961us/step - loss: 1158916.1250 - val_loss: 1138147.1250\n",
      "Epoch 23/100\n",
      "1079/1079 [==============================] - 1s 935us/step - loss: 1157249.7500 - val_loss: 1139481.6250\n",
      "Epoch 24/100\n",
      "1079/1079 [==============================] - 1s 935us/step - loss: 1155503.7500 - val_loss: 1150352.2500\n",
      "Epoch 25/100\n",
      "1079/1079 [==============================] - 1s 994us/step - loss: 1158354.3750 - val_loss: 1143834.0000\n",
      "Epoch 26/100\n",
      "1079/1079 [==============================] - 1s 946us/step - loss: 1155191.7500 - val_loss: 1155192.5000\n",
      "Epoch 27/100\n",
      "1079/1079 [==============================] - 1s 936us/step - loss: 1156114.2500 - val_loss: 1153703.6250\n",
      "Epoch 28/100\n",
      "1079/1079 [==============================] - 1s 958us/step - loss: 1151046.1250 - val_loss: 1143953.2500\n",
      "Epoch 29/100\n",
      "1079/1079 [==============================] - 1s 963us/step - loss: 1148923.6250 - val_loss: 1140161.7500\n",
      "Epoch 30/100\n",
      "1079/1079 [==============================] - 1s 963us/step - loss: 1147020.1250 - val_loss: 1160830.0000\n",
      "Epoch 31/100\n",
      "1079/1079 [==============================] - 1s 938us/step - loss: 1153137.8750 - val_loss: 1133396.2500\n",
      "Epoch 32/100\n",
      "1079/1079 [==============================] - 1s 981us/step - loss: 1144808.6250 - val_loss: 1142412.6250\n",
      "Epoch 33/100\n",
      "1079/1079 [==============================] - 1s 961us/step - loss: 1145904.0000 - val_loss: 1188122.5000\n",
      "Epoch 34/100\n",
      "1079/1079 [==============================] - 1s 1ms/step - loss: 1145766.7500 - val_loss: 1143007.1250\n",
      "Epoch 35/100\n",
      "1079/1079 [==============================] - 2s 2ms/step - loss: 1147957.1250 - val_loss: 1159564.8750\n",
      "Epoch 36/100\n",
      "1079/1079 [==============================] - 1s 1ms/step - loss: 1143307.2500 - val_loss: 1139285.6250\n",
      "Epoch 37/100\n",
      "1079/1079 [==============================] - 1s 1ms/step - loss: 1141074.8750 - val_loss: 1162783.7500\n",
      "Epoch 38/100\n",
      "1079/1079 [==============================] - 1s 1ms/step - loss: 1146294.7500 - val_loss: 1124588.8750\n",
      "Epoch 39/100\n",
      "1079/1079 [==============================] - 1s 1ms/step - loss: 1136546.8750 - val_loss: 1173836.6250\n",
      "Epoch 40/100\n",
      "1079/1079 [==============================] - 1s 1ms/step - loss: 1142704.7500 - val_loss: 1166082.2500\n",
      "Epoch 41/100\n",
      "1079/1079 [==============================] - 1s 1ms/step - loss: 1139221.2500 - val_loss: 1139252.1250\n",
      "Epoch 42/100\n",
      "1079/1079 [==============================] - 1s 1ms/step - loss: 1136537.8750 - val_loss: 1137908.5000\n",
      "Epoch 43/100\n",
      "1079/1079 [==============================] - 1s 1ms/step - loss: 1135579.0000 - val_loss: 1139159.3750\n",
      "Epoch 44/100\n",
      "1079/1079 [==============================] - 1s 1ms/step - loss: 1138545.2500 - val_loss: 1262474.3750\n",
      "Epoch 45/100\n",
      "1079/1079 [==============================] - 1s 1ms/step - loss: 1135202.2500 - val_loss: 1126823.3750\n",
      "Epoch 46/100\n",
      "1079/1079 [==============================] - 1s 1ms/step - loss: 1131885.5000 - val_loss: 1124926.6250\n",
      "Epoch 47/100\n",
      "1079/1079 [==============================] - 1s 1ms/step - loss: 1129921.2500 - val_loss: 1126438.2500\n",
      "Epoch 48/100\n",
      "1079/1079 [==============================] - 1s 1ms/step - loss: 1133655.0000 - val_loss: 1117239.3750\n",
      "Epoch 49/100\n",
      "1079/1079 [==============================] - 1s 1ms/step - loss: 1129768.1250 - val_loss: 1114847.6250\n",
      "Epoch 50/100\n",
      "1079/1079 [==============================] - 1s 1ms/step - loss: 1131255.3750 - val_loss: 1149628.2500\n",
      "Epoch 51/100\n",
      "1079/1079 [==============================] - 1s 1ms/step - loss: 1131770.2500 - val_loss: 1139953.5000\n",
      "Epoch 52/100\n",
      "1079/1079 [==============================] - 1s 1ms/step - loss: 1125112.7500 - val_loss: 1133397.6250\n",
      "Epoch 53/100\n",
      "1079/1079 [==============================] - 1s 1ms/step - loss: 1123229.8750 - val_loss: 1116893.0000\n",
      "Epoch 54/100\n",
      "1079/1079 [==============================] - 1s 1ms/step - loss: 1119972.5000 - val_loss: 1112559.3750\n",
      "Epoch 55/100\n",
      "1079/1079 [==============================] - 1s 1ms/step - loss: 1121464.5000 - val_loss: 1113302.5000\n",
      "Epoch 56/100\n",
      "1079/1079 [==============================] - 1s 1ms/step - loss: 1117468.0000 - val_loss: 1111791.6250\n",
      "Epoch 57/100\n",
      "1079/1079 [==============================] - 1s 1ms/step - loss: 1115060.3750 - val_loss: 1111744.3750\n",
      "Epoch 58/100\n",
      "1079/1079 [==============================] - 1s 1ms/step - loss: 1117758.8750 - val_loss: 1120437.6250\n",
      "Epoch 59/100\n",
      "1079/1079 [==============================] - 1s 1ms/step - loss: 1114741.0000 - val_loss: 1115848.6250\n",
      "Epoch 60/100\n",
      "1079/1079 [==============================] - 1s 1ms/step - loss: 1109412.7500 - val_loss: 1101996.0000\n",
      "Epoch 61/100\n",
      "1079/1079 [==============================] - 1s 1ms/step - loss: 1107204.0000 - val_loss: 1122340.1250\n",
      "Epoch 62/100\n",
      "1079/1079 [==============================] - 1s 1ms/step - loss: 1104859.8750 - val_loss: 1115072.5000\n",
      "Epoch 63/100\n",
      "1079/1079 [==============================] - 1s 1ms/step - loss: 1104987.3750 - val_loss: 1091817.1250\n",
      "Epoch 64/100\n",
      "1079/1079 [==============================] - 1s 1ms/step - loss: 1102681.8750 - val_loss: 1093940.5000\n",
      "Epoch 65/100\n",
      "1079/1079 [==============================] - 1s 1ms/step - loss: 1098965.3750 - val_loss: 1087270.8750\n",
      "Epoch 66/100\n",
      "1079/1079 [==============================] - 2s 1ms/step - loss: 1099619.2500 - val_loss: 1088243.8750\n",
      "Epoch 67/100\n",
      "1079/1079 [==============================] - 1s 1ms/step - loss: 1096195.1250 - val_loss: 1090229.0000\n",
      "Epoch 68/100\n",
      "1079/1079 [==============================] - 1s 1ms/step - loss: 1091220.1250 - val_loss: 1090228.6250\n",
      "Epoch 69/100\n",
      "1079/1079 [==============================] - 1s 911us/step - loss: 1090405.7500 - val_loss: 1081742.3750\n",
      "Epoch 70/100\n",
      "1079/1079 [==============================] - 1s 919us/step - loss: 1088273.0000 - val_loss: 1072343.3750\n",
      "Epoch 71/100\n",
      "1079/1079 [==============================] - 1s 1ms/step - loss: 1084273.1250 - val_loss: 1081628.8750\n",
      "Epoch 72/100\n",
      "1079/1079 [==============================] - 1s 988us/step - loss: 1081776.6250 - val_loss: 1069311.5000\n",
      "Epoch 73/100\n",
      "1079/1079 [==============================] - 1s 1ms/step - loss: 1071632.3750 - val_loss: 1067935.0000\n",
      "Epoch 74/100\n",
      "1079/1079 [==============================] - 2s 2ms/step - loss: 1073879.0000 - val_loss: 1070183.7500\n",
      "Epoch 75/100\n",
      "1079/1079 [==============================] - 1s 1ms/step - loss: 1067796.6250 - val_loss: 1067123.5000\n",
      "Epoch 76/100\n",
      "1079/1079 [==============================] - 1s 1ms/step - loss: 1059749.1250 - val_loss: 1090880.8750\n",
      "Epoch 77/100\n",
      "1079/1079 [==============================] - 1s 995us/step - loss: 1055466.8750 - val_loss: 1044412.6250\n",
      "Epoch 78/100\n",
      "1079/1079 [==============================] - 1s 995us/step - loss: 1049457.0000 - val_loss: 1035134.6875\n",
      "Epoch 79/100\n",
      "1079/1079 [==============================] - 1s 1ms/step - loss: 1041290.5625 - val_loss: 1059168.0000\n",
      "Epoch 80/100\n",
      "1079/1079 [==============================] - 1s 1ms/step - loss: 1034659.2500 - val_loss: 1026072.3125\n",
      "Epoch 81/100\n",
      "1079/1079 [==============================] - 1s 1ms/step - loss: 1027327.7500 - val_loss: 1042154.7500\n",
      "Epoch 82/100\n",
      "1079/1079 [==============================] - 1s 995us/step - loss: 1023935.2500 - val_loss: 1015552.9375\n",
      "Epoch 83/100\n",
      "1079/1079 [==============================] - 1s 1ms/step - loss: 1010338.3125 - val_loss: 1007399.5000\n",
      "Epoch 84/100\n",
      "1079/1079 [==============================] - 1s 1ms/step - loss: 1013135.6250 - val_loss: 1084024.0000\n",
      "Epoch 85/100\n",
      "1079/1079 [==============================] - 1s 1ms/step - loss: 997933.4375 - val_loss: 1026556.2500\n",
      "Epoch 86/100\n",
      "1079/1079 [==============================] - 1s 1ms/step - loss: 989020.5625 - val_loss: 979774.0000\n",
      "Epoch 87/100\n",
      "1079/1079 [==============================] - 1s 1ms/step - loss: 989637.6875 - val_loss: 990557.6250\n",
      "Epoch 88/100\n",
      "1079/1079 [==============================] - 1s 1ms/step - loss: 977128.3750 - val_loss: 971651.8750\n",
      "Epoch 89/100\n",
      "1079/1079 [==============================] - 1s 1ms/step - loss: 966109.3125 - val_loss: 959426.0000\n",
      "Epoch 90/100\n",
      "1079/1079 [==============================] - 1s 1ms/step - loss: 963851.1250 - val_loss: 952808.6250\n",
      "Epoch 91/100\n",
      "1079/1079 [==============================] - 1s 1ms/step - loss: 953227.3750 - val_loss: 947199.4375\n",
      "Epoch 92/100\n",
      "1079/1079 [==============================] - 1s 1ms/step - loss: 945519.3750 - val_loss: 946160.3125\n",
      "Epoch 93/100\n",
      "1079/1079 [==============================] - 1s 1ms/step - loss: 940983.1250 - val_loss: 929781.3125\n",
      "Epoch 94/100\n",
      "1079/1079 [==============================] - 1s 1ms/step - loss: 928000.8750 - val_loss: 930536.0625\n",
      "Epoch 95/100\n",
      "1079/1079 [==============================] - 1s 1ms/step - loss: 928538.2500 - val_loss: 909947.6250\n",
      "Epoch 96/100\n",
      "1079/1079 [==============================] - 2s 2ms/step - loss: 917920.1250 - val_loss: 906095.5000\n",
      "Epoch 97/100\n",
      "1079/1079 [==============================] - 1s 1ms/step - loss: 902336.5000 - val_loss: 903558.9375\n",
      "Epoch 98/100\n",
      "1079/1079 [==============================] - 1s 930us/step - loss: 899117.1250 - val_loss: 912957.6250\n",
      "Epoch 99/100\n",
      "1079/1079 [==============================] - 1s 915us/step - loss: 889361.5000 - val_loss: 890253.6250\n",
      "Epoch 100/100\n",
      "1079/1079 [==============================] - 1s 918us/step - loss: 886082.5625 - val_loss: 906564.0000\n"
     ]
    }
   ],
   "source": [
    "early_stopping_cb = keras.callbacks.EarlyStopping(patience=20)\n",
    "checkpoint_cb = keras.callbacks.ModelCheckpoint(\"best_diamonts_model.h5\", save_best_only=True)\n",
    "tensorboard_cb = keras.callbacks.TensorBoard(run_logdir)\n",
    "\n",
    "history = model.fit(X_train, y_train, epochs=100,\n",
    "                    validation_data=(X_val, y_val),\n",
    "                    callbacks=[checkpoint_cb, early_stopping_cb, tensorboard_cb])"
   ]
  },
  {
   "cell_type": "code",
   "execution_count": 112,
   "id": "ba6d4f86",
   "metadata": {
    "scrolled": true
   },
   "outputs": [
    {
     "name": "stdout",
     "output_type": "stream",
     "text": [
      "338/338 [==============================] - 0s 554us/step - loss: 861173.4375\n"
     ]
    },
    {
     "data": {
      "text/plain": [
       "861173.4375"
      ]
     },
     "execution_count": 112,
     "metadata": {},
     "output_type": "execute_result"
    }
   ],
   "source": [
    "model = keras.models.load_model(\"best_diamonts_model.h5\")  # rollback to best model\n",
    "model.evaluate(X_test, y_test)"
   ]
  },
  {
   "cell_type": "code",
   "execution_count": 116,
   "id": "a347f67f",
   "metadata": {},
   "outputs": [],
   "source": [
    "%load_ext tensorboard"
   ]
  },
  {
   "cell_type": "code",
   "execution_count": 28,
   "id": "c0e383df",
   "metadata": {},
   "outputs": [
    {
     "data": {
      "text/plain": [
       "Reusing TensorBoard on port 6006 (pid 38608), started 0:01:12 ago. (Use '!kill 38608' to kill it.)"
      ]
     },
     "metadata": {},
     "output_type": "display_data"
    },
    {
     "data": {
      "text/html": [
       "\n",
       "      <iframe id=\"tensorboard-frame-d9da800558f2559e\" width=\"100%\" height=\"800\" frameborder=\"0\">\n",
       "      </iframe>\n",
       "      <script>\n",
       "        (function() {\n",
       "          const frame = document.getElementById(\"tensorboard-frame-d9da800558f2559e\");\n",
       "          const url = new URL(\"/\", window.location);\n",
       "          const port = 6006;\n",
       "          if (port) {\n",
       "            url.port = port;\n",
       "          }\n",
       "          frame.src = url;\n",
       "        })();\n",
       "      </script>\n",
       "    "
      ],
      "text/plain": [
       "<IPython.core.display.HTML object>"
      ]
     },
     "metadata": {},
     "output_type": "display_data"
    }
   ],
   "source": [
    "%tensorboard --logdir=./my_diamonts_logs --port=6006"
   ]
  },
  {
   "cell_type": "code",
   "execution_count": null,
   "id": "be728cb1",
   "metadata": {},
   "outputs": [],
   "source": []
  }
 ],
 "metadata": {
  "kernelspec": {
   "display_name": "Python 3 (ipykernel)",
   "language": "python",
   "name": "python3"
  },
  "language_info": {
   "codemirror_mode": {
    "name": "ipython",
    "version": 3
   },
   "file_extension": ".py",
   "mimetype": "text/x-python",
   "name": "python",
   "nbconvert_exporter": "python",
   "pygments_lexer": "ipython3",
   "version": "3.10.6"
  }
 },
 "nbformat": 4,
 "nbformat_minor": 5
}
