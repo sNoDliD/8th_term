{
 "cells": [
  {
   "cell_type": "markdown",
   "id": "52953062",
   "metadata": {},
   "source": [
    "## Variant 5"
   ]
  },
  {
   "cell_type": "code",
   "execution_count": 64,
   "id": "05caefbf",
   "metadata": {
    "ExecuteTime": {
     "end_time": "2023-04-30T16:59:04.972047099Z",
     "start_time": "2023-04-30T16:59:04.933738429Z"
    }
   },
   "outputs": [],
   "source": [
    "import numpy as np\n",
    "import random"
   ]
  },
  {
   "cell_type": "markdown",
   "source": [
    "## Part 1\n",
    "3, 5, 7, 9, 10, 12, 14, 15, 21"
   ],
   "metadata": {
    "collapsed": false
   }
  },
  {
   "cell_type": "code",
   "execution_count": 65,
   "id": "b3348805",
   "metadata": {
    "ExecuteTime": {
     "end_time": "2023-04-30T16:59:11.326817517Z",
     "start_time": "2023-04-30T16:59:04.940343319Z"
    }
   },
   "outputs": [
    {
     "name": "stdout",
     "output_type": "stream",
     "text": [
      "3.89 µs ± 202 ns per loop (mean ± std. dev. of 7 runs, 100,000 loops each)\n",
      "398 µs ± 15.7 µs per loop (mean ± std. dev. of 7 runs, 1,000 loops each)\n"
     ]
    }
   ],
   "source": [
    "def task_3_np(n, m, r, c):\n",
    "    matrix = np.ones((n, m))\n",
    "    matrix[r] = 0\n",
    "    matrix[:, c] = 0\n",
    "    return matrix\n",
    "\n",
    "\n",
    "def task_3_py(n, m, r, c):\n",
    "    matrix = [\n",
    "        [0 if j == r or i == c else 1 for i in range(n)]\n",
    "        for j in range(m)\n",
    "    ]\n",
    "    return matrix\n",
    "\n",
    "%timeit task_3_np(100, 100, 10, 42)\n",
    "%timeit task_3_py(100, 100, 10, 42)"
   ]
  },
  {
   "cell_type": "markdown",
   "id": "85428ef3",
   "metadata": {},
   "source": [
    "**Numpy** is in 97.2 times faster"
   ]
  },
  {
   "cell_type": "code",
   "execution_count": 66,
   "id": "5ef3099f",
   "metadata": {
    "ExecuteTime": {
     "end_time": "2023-04-30T16:59:20.076682247Z",
     "start_time": "2023-04-30T16:59:11.330717649Z"
    }
   },
   "outputs": [
    {
     "name": "stdout",
     "output_type": "stream",
     "text": [
      "677 µs ± 50.9 µs per loop (mean ± std. dev. of 7 runs, 1,000 loops each)\n",
      "39.8 ms ± 1.23 ms per loop (mean ± std. dev. of 7 runs, 10 loops each)\n"
     ]
    }
   ],
   "source": [
    "def task_5_np(n):\n",
    "    matrix = np.zeros((n, n))\n",
    "    matrix[::2, :] = 1\n",
    "    return matrix\n",
    "\n",
    "\n",
    "def task_5_py(n):\n",
    "    matrix = [\n",
    "        [1 if j % 2 == 0 else 0 for i in range(n)]\n",
    "        for j in range(n)\n",
    "    ]\n",
    "    return matrix\n",
    "\n",
    "\n",
    "n = 1_000\n",
    "%timeit task_5_np(n)\n",
    "%timeit task_5_py(n)"
   ]
  },
  {
   "cell_type": "markdown",
   "id": "bd7f206b",
   "metadata": {},
   "source": [
    "**Numpy** is 6.33 times faster"
   ]
  },
  {
   "cell_type": "code",
   "execution_count": 67,
   "id": "3d0bbf9f",
   "metadata": {
    "ExecuteTime": {
     "end_time": "2023-04-30T16:59:25.120108639Z",
     "start_time": "2023-04-30T16:59:20.079033289Z"
    }
   },
   "outputs": [
    {
     "name": "stdout",
     "output_type": "stream",
     "text": [
      "29.8 µs ± 391 ns per loop (mean ± std. dev. of 7 runs, 10,000 loops each)\n",
      "32.3 µs ± 1.28 µs per loop (mean ± std. dev. of 7 runs, 10,000 loops each)\n"
     ]
    }
   ],
   "source": [
    "def task_7_np(arr):\n",
    "    np_arr = np.array(arr)\n",
    "    np_arr[np_arr == 0] = -1\n",
    "    return np_arr\n",
    "\n",
    "\n",
    "def task_7_py(arr):\n",
    "    arr = list(arr)\n",
    "    for i, item in enumerate(arr):\n",
    "        if item == 0:\n",
    "            arr[i] = -1\n",
    "    return arr\n",
    "\n",
    "\n",
    "array = [3, 4, 0, 6, 5, 0, 3, 0, 4] * 100\n",
    "%timeit task_7_np(array)\n",
    "%timeit task_7_py(array)"
   ]
  },
  {
   "cell_type": "markdown",
   "id": "3eafdb22",
   "metadata": {},
   "source": [
    "**Python** is 1.06 times faster"
   ]
  },
  {
   "cell_type": "code",
   "execution_count": 68,
   "id": "37a5c868",
   "metadata": {
    "ExecuteTime": {
     "end_time": "2023-04-30T16:59:37.482378671Z",
     "start_time": "2023-04-30T16:59:25.123743832Z"
    }
   },
   "outputs": [
    {
     "name": "stdout",
     "output_type": "stream",
     "text": [
      "28.9 µs ± 730 ns per loop (mean ± std. dev. of 7 runs, 10,000 loops each)\n",
      "1.23 ms ± 13.8 µs per loop (mean ± std. dev. of 7 runs, 1,000 loops each)\n"
     ]
    }
   ],
   "source": [
    "def task_9_np(n):\n",
    "    arr = np.arange(n, -1, -1)\n",
    "    return arr\n",
    "\n",
    "\n",
    "def task_9_py(n):\n",
    "    arr = list(range(n, -1, -1))\n",
    "    return arr\n",
    "\n",
    "\n",
    "n = 100_000\n",
    "%timeit task_9_np(n)\n",
    "%timeit task_9_py(n)"
   ]
  },
  {
   "cell_type": "markdown",
   "id": "7e5b370a",
   "metadata": {},
   "source": [
    "**Numpy** is 41.8 times faster"
   ]
  },
  {
   "cell_type": "code",
   "execution_count": 69,
   "outputs": [
    {
     "name": "stdout",
     "output_type": "stream",
     "text": [
      "70 µs ± 1.03 µs per loop (mean ± std. dev. of 7 runs, 10,000 loops each)\n",
      "2.38 ms ± 62.6 µs per loop (mean ± std. dev. of 7 runs, 100 loops each)\n"
     ]
    }
   ],
   "source": [
    "def task_10_np(n, m):\n",
    "    matrix = np.random.random((n, m)).round(3)\n",
    "    minimum = np.min(matrix)\n",
    "    maximum = np.max(matrix)\n",
    "    mean = np.mean(matrix)\n",
    "    std = np.std(matrix)\n",
    "    return f'''min: {minimum}\n",
    "    max: {maximum}\n",
    "    mean: {mean}\n",
    "    std: {std}'''\n",
    "\n",
    "\n",
    "def task_10_py(n, m):\n",
    "    matrix = [\n",
    "        [round(random.random(), 3) for i in range(n)]\n",
    "        for j in range(m)\n",
    "    ]\n",
    "    minimum = min(map(min, matrix))\n",
    "    maximum = max(map(max, matrix))\n",
    "    matrix_sum = 0\n",
    "    var_sum = 0\n",
    "    for i in range(m):\n",
    "        for el in matrix[i]:\n",
    "            matrix_sum += el\n",
    "    mean = matrix_sum / (n * m)\n",
    "    for i in range(m):\n",
    "        for el in matrix[i]:\n",
    "            var_sum += pow(el - mean, 2)\n",
    "    std = pow(var_sum / (n * m), 0.5)\n",
    "    return f'''min: {round(minimum, 3)}\n",
    "    max: {round(maximum, 3)}\n",
    "    mean: {round(mean, 3)}\n",
    "    std: {round(std, 3)}'''\n",
    "\n",
    "%timeit task_10_np(100, 50)\n",
    "%timeit task_10_py(100, 50)"
   ],
   "metadata": {
    "collapsed": false,
    "ExecuteTime": {
     "end_time": "2023-04-30T16:59:45.104785574Z",
     "start_time": "2023-04-30T16:59:37.487839886Z"
    }
   }
  },
  {
   "cell_type": "markdown",
   "source": [
    "**Numpy** is 22.9 times faster"
   ],
   "metadata": {
    "collapsed": false
   }
  },
  {
   "cell_type": "code",
   "execution_count": 70,
   "outputs": [
    {
     "name": "stdout",
     "output_type": "stream",
     "text": [
      "297 µs ± 7.45 µs per loop (mean ± std. dev. of 7 runs, 1,000 loops each)\n",
      "96.4 ms ± 3.27 ms per loop (mean ± std. dev. of 7 runs, 10 loops each)\n"
     ]
    }
   ],
   "source": [
    "def task_12_np(n):\n",
    "    arr = np.zeros((n, n))\n",
    "    arr[[0, -1]] = 1\n",
    "    arr[:, [0, -1]] = 1\n",
    "    return arr\n",
    "\n",
    "\n",
    "def task_12_py(n):\n",
    "    arr = [\n",
    "        [1 if j in (0, n - 1) or i in (0, n - 1) else 0 for i in range(n)]\n",
    "        for j in range(n)\n",
    "    ]\n",
    "    return arr\n",
    "\n",
    "%timeit task_12_np(1000)\n",
    "%timeit task_12_py(1000)"
   ],
   "metadata": {
    "collapsed": false,
    "ExecuteTime": {
     "end_time": "2023-04-30T16:59:55.348492945Z",
     "start_time": "2023-04-30T16:59:45.109466338Z"
    }
   }
  },
  {
   "cell_type": "markdown",
   "source": [
    "**Numpy** is 266.3 times faster"
   ],
   "metadata": {
    "collapsed": false
   }
  },
  {
   "cell_type": "code",
   "execution_count": 71,
   "outputs": [
    {
     "name": "stdout",
     "output_type": "stream",
     "text": [
      "4.07 µs ± 107 ns per loop (mean ± std. dev. of 7 runs, 100,000 loops each)\n",
      "4.82 µs ± 51.3 ns per loop (mean ± std. dev. of 7 runs, 100,000 loops each)\n"
     ]
    }
   ],
   "source": [
    "def task_14_np():\n",
    "    a = np.array([[0, 1], [1, 0]])\n",
    "    matrix = np.tile(a, (4, 4))\n",
    "    return matrix\n",
    "\n",
    "\n",
    "def task_14_py():\n",
    "    matrix = [\n",
    "        [0 if (i + j) % 2 == 0 else 1 for i in range(8)]\n",
    "        for j in range(8)\n",
    "    ]\n",
    "    return matrix\n",
    "\n",
    "%timeit task_14_np()\n",
    "%timeit task_14_py()"
   ],
   "metadata": {
    "collapsed": false,
    "ExecuteTime": {
     "end_time": "2023-04-30T17:00:02.577631228Z",
     "start_time": "2023-04-30T16:59:55.353159322Z"
    }
   }
  },
  {
   "cell_type": "markdown",
   "source": [
    "**Numpy** is 1.18 times faster"
   ],
   "metadata": {
    "collapsed": false
   }
  },
  {
   "cell_type": "code",
   "execution_count": 72,
   "outputs": [
    {
     "name": "stdout",
     "output_type": "stream",
     "text": [
      "824 µs ± 93.1 µs per loop (mean ± std. dev. of 7 runs, 1,000 loops each)\n",
      "39.5 ms ± 1.17 ms per loop (mean ± std. dev. of 7 runs, 10 loops each)\n"
     ]
    }
   ],
   "source": [
    "def task_15_np(n):\n",
    "    matrix = np.zeros((n, n))\n",
    "    matrix[:, 1::2] = 1\n",
    "    return matrix\n",
    "\n",
    "\n",
    "def task_15_py(n):\n",
    "    matrix = [\n",
    "        [0 if i % 2 == 0 else 1 for i in range(n)]\n",
    "        for j in range(n)\n",
    "    ]\n",
    "    return matrix\n",
    "\n",
    "%timeit task_15_np(1000)\n",
    "%timeit task_15_py(1000)"
   ],
   "metadata": {
    "collapsed": false,
    "ExecuteTime": {
     "end_time": "2023-04-30T17:00:12.597979721Z",
     "start_time": "2023-04-30T17:00:02.581155212Z"
    }
   }
  },
  {
   "cell_type": "markdown",
   "source": [
    "**Numpy** is 4.5 times faster"
   ],
   "metadata": {
    "collapsed": false
   }
  },
  {
   "cell_type": "code",
   "execution_count": 73,
   "outputs": [
    {
     "name": "stdout",
     "output_type": "stream",
     "text": [
      "127 µs ± 2.43 µs per loop (mean ± std. dev. of 7 runs, 10,000 loops each)\n",
      "4.55 ms ± 53.8 µs per loop (mean ± std. dev. of 7 runs, 100 loops each)\n"
     ]
    }
   ],
   "source": [
    "def task_21_np(n, m):\n",
    "    arr = np.random.randint(0, m + 1, size=(n, n))\n",
    "    mks = arr.max()\n",
    "    arr[arr == mks] = -mks\n",
    "    return arr\n",
    "\n",
    "\n",
    "def task_21_py(n, m):\n",
    "    arr = [[random.randint(0, m) for _ in range(n)] for _ in range(n)]\n",
    "    max_ = max(max(e) for e in arr)\n",
    "    arr = [\n",
    "        [k if k != max_ else -k for k in r]\n",
    "        for r in arr\n",
    "    ]\n",
    "    return arr\n",
    "\n",
    "%timeit task_21_np(100, 300)\n",
    "%timeit task_21_py(100, 300)"
   ],
   "metadata": {
    "collapsed": false,
    "ExecuteTime": {
     "end_time": "2023-04-30T17:00:26.575511766Z",
     "start_time": "2023-04-30T17:00:12.592354988Z"
    }
   }
  },
  {
   "cell_type": "markdown",
   "source": [
    "**Numpy** is 36.8 times faster"
   ],
   "metadata": {
    "collapsed": false
   }
  },
  {
   "cell_type": "markdown",
   "source": [
    "## Part 2"
   ],
   "metadata": {
    "collapsed": false
   }
  },
  {
   "cell_type": "code",
   "execution_count": 74,
   "outputs": [],
   "source": [
    "def solve(matrix):\n",
    "    b = matrix[:, -1]\n",
    "    det = matrix[:, :-1]\n",
    "    dets = []\n",
    "    for i in range(matrix.shape[0]):\n",
    "        det_i = det.copy()\n",
    "        det_i[:, i] = b\n",
    "        dets.append(det_i)\n",
    "    det = np.linalg.det(det)\n",
    "    dets = [np.linalg.det(d) for d in dets]\n",
    "    solution = [d / det for d in dets]\n",
    "    return np.array(solution)\n",
    "\n",
    "\n",
    "matrix = np.array([\n",
    "    [1, 3, 5, 7, 12],\n",
    "    [3, 5, 7, 1, 0],\n",
    "    [5, 7, 1, 3, 4],\n",
    "    [7, 1, 3, 5, 16]\n",
    "])\n",
    "result = solve(matrix)\n",
    "assert np.allclose(result @ matrix[:, :-1], matrix[:, -1])\n",
    "np_result = np.linalg.solve(matrix[:, :-1], matrix[:, -1])\n",
    "assert np.allclose(result, np_result)"
   ],
   "metadata": {
    "collapsed": false,
    "ExecuteTime": {
     "end_time": "2023-04-30T17:00:26.580968032Z",
     "start_time": "2023-04-30T17:00:26.579397010Z"
    }
   }
  },
  {
   "cell_type": "markdown",
   "source": [
    "## Part 3"
   ],
   "metadata": {
    "collapsed": false
   }
  },
  {
   "cell_type": "code",
   "execution_count": 75,
   "outputs": [
    {
     "name": "stdout",
     "output_type": "stream",
     "text": [
      "2.24 µs ± 30.7 ns per loop (mean ± std. dev. of 7 runs, 100,000 loops each)\n",
      "8 µs ± 226 ns per loop (mean ± std. dev. of 7 runs, 100,000 loops each)\n"
     ]
    }
   ],
   "source": [
    "def solve_np(a, b):\n",
    "    return (a - b ** 2) * (2 * a + b)\n",
    "\n",
    "\n",
    "def matrix_(a, b, operator):\n",
    "    res = []\n",
    "    for i in range(len(a)):\n",
    "        res.append([])\n",
    "        for j in range(len(a[-1])):\n",
    "            res[-1].append(operator(a[i][j], b[i][j]))\n",
    "    return res\n",
    "\n",
    "\n",
    "def matrix_sub(a, b):\n",
    "    return matrix_(a, b, lambda a, b: a - b)\n",
    "\n",
    "\n",
    "def matrix_add(a, b):\n",
    "    return matrix_(a, b, lambda a, b: a + b)\n",
    "\n",
    "\n",
    "def matrix_mult_const(a, const):\n",
    "    return [[el * const for el in row] for row in a]\n",
    "\n",
    "\n",
    "def matrix_mult(a, b):\n",
    "    return matrix_(a, b, lambda a, b: a * b)\n",
    "\n",
    "\n",
    "def matrix_pow(a, const):\n",
    "    return [[el ** const for el in row] for row in a]\n",
    "\n",
    "\n",
    "def solve_py(a, b):\n",
    "    return matrix_mult(matrix_sub(a, matrix_pow(b, 2)), matrix_add(matrix_mult_const(a, 2), b))\n",
    "\n",
    "\n",
    "A = [\n",
    "    [5, 2, 0],\n",
    "    [10, 4, 1],\n",
    "    [7, 3, 2]\n",
    "]\n",
    "\n",
    "B = [\n",
    "    [3, 6, -1],\n",
    "    [-1, -2, 0],\n",
    "    [2, 1, 3]\n",
    "]\n",
    "A_np, B_np = np.array(A), np.array(B)\n",
    "assert np.allclose(solve_np(A_np, B_np), solve_py(A, B))\n",
    "%timeit solve_np(A_np, B_np)\n",
    "%timeit solve_py(A, B)"
   ],
   "metadata": {
    "collapsed": false,
    "ExecuteTime": {
     "end_time": "2023-04-30T17:00:34.904587678Z",
     "start_time": "2023-04-30T17:00:26.586702243Z"
    }
   }
  },
  {
   "cell_type": "markdown",
   "id": "512184bc",
   "metadata": {},
   "source": [
    "**Numpy** is 3.57 times faster"
   ]
  }
 ],
 "metadata": {
  "kernelspec": {
   "display_name": "Python 3 (ipykernel)",
   "language": "python",
   "name": "python3"
  },
  "language_info": {
   "codemirror_mode": {
    "name": "ipython",
    "version": 3
   },
   "file_extension": ".py",
   "mimetype": "text/x-python",
   "name": "python",
   "nbconvert_exporter": "python",
   "pygments_lexer": "ipython3",
   "version": "3.10.6"
  }
 },
 "nbformat": 4,
 "nbformat_minor": 5
}
