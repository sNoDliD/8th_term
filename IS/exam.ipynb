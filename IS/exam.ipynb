{
 "cells": [
  {
   "cell_type": "markdown",
   "source": [
    "## Exam"
   ],
   "metadata": {
    "collapsed": false
   }
  },
  {
   "cell_type": "code",
   "execution_count": 90,
   "id": "5257e115",
   "metadata": {
    "ExecuteTime": {
     "end_time": "2023-05-05T07:15:02.955759020Z",
     "start_time": "2023-05-05T07:15:02.906712784Z"
    }
   },
   "outputs": [],
   "source": [
    "import pandas as pd\n",
    "from sklearn.ensemble import RandomForestClassifier\n",
    "from sklearn.metrics import accuracy_score, classification_report\n",
    "from sklearn.model_selection import train_test_split\n",
    "from sklearn.preprocessing import LabelEncoder"
   ]
  },
  {
   "cell_type": "code",
   "execution_count": 106,
   "id": "ac014d13",
   "metadata": {
    "ExecuteTime": {
     "end_time": "2023-05-05T07:18:25.130615986Z",
     "start_time": "2023-05-05T07:18:25.077964639Z"
    }
   },
   "outputs": [],
   "source": [
    "df = pd.read_csv('archive/Expanded_data_with_more_features.csv')"
   ]
  },
  {
   "cell_type": "code",
   "execution_count": 107,
   "id": "5db2aa54",
   "metadata": {
    "ExecuteTime": {
     "end_time": "2023-05-05T07:18:25.667490539Z",
     "start_time": "2023-05-05T07:18:25.664154661Z"
    }
   },
   "outputs": [
    {
     "data": {
      "text/plain": "       Unnamed: 0  Gender EthnicGroup          ParentEduc     LunchType   \n30633         783  female     group C     master's degree      standard  \\\n30634         785    male     group A  associate's degree  free/reduced   \n30635         794    male     group C        some college      standard   \n30636         816  female     group D         high school      standard   \n30637         890    male     group E         high school      standard   \n30638         911  female         NaN         high school  free/reduced   \n30639         934  female     group D  associate's degree      standard   \n30640         960    male     group B        some college      standard   \n\n        TestPrep ParentMaritalStatus PracticeSport IsFirstChild  NrSiblings   \n30633  completed             married         never           no         2.0  \\\n30634  completed                 NaN     sometimes           no         2.0   \n30635       none             married     regularly           no         2.0   \n30636       none              single     sometimes           no         2.0   \n30637       none              single     regularly           no         1.0   \n30638  completed             married     sometimes           no         1.0   \n30639  completed             married     regularly           no         3.0   \n30640       none             married         never           no         1.0   \n\n      TransportMeans WklyStudyHours  MathScore  ReadingScore  WritingScore  \n30633     school_bus         5 - 10         84            99            99  \n30634     school_bus         5 - 10         65            60            60  \n30635     school_bus         5 - 10         58            53            49  \n30636     school_bus         5 - 10         59            61            65  \n30637        private         5 - 10         58            53            51  \n30638        private         5 - 10         61            70            67  \n30639     school_bus         5 - 10         82            90            93  \n30640     school_bus         5 - 10         64            60            58  ",
      "text/html": "<div>\n<style scoped>\n    .dataframe tbody tr th:only-of-type {\n        vertical-align: middle;\n    }\n\n    .dataframe tbody tr th {\n        vertical-align: top;\n    }\n\n    .dataframe thead th {\n        text-align: right;\n    }\n</style>\n<table border=\"1\" class=\"dataframe\">\n  <thead>\n    <tr style=\"text-align: right;\">\n      <th></th>\n      <th>Unnamed: 0</th>\n      <th>Gender</th>\n      <th>EthnicGroup</th>\n      <th>ParentEduc</th>\n      <th>LunchType</th>\n      <th>TestPrep</th>\n      <th>ParentMaritalStatus</th>\n      <th>PracticeSport</th>\n      <th>IsFirstChild</th>\n      <th>NrSiblings</th>\n      <th>TransportMeans</th>\n      <th>WklyStudyHours</th>\n      <th>MathScore</th>\n      <th>ReadingScore</th>\n      <th>WritingScore</th>\n    </tr>\n  </thead>\n  <tbody>\n    <tr>\n      <th>30633</th>\n      <td>783</td>\n      <td>female</td>\n      <td>group C</td>\n      <td>master's degree</td>\n      <td>standard</td>\n      <td>completed</td>\n      <td>married</td>\n      <td>never</td>\n      <td>no</td>\n      <td>2.0</td>\n      <td>school_bus</td>\n      <td>5 - 10</td>\n      <td>84</td>\n      <td>99</td>\n      <td>99</td>\n    </tr>\n    <tr>\n      <th>30634</th>\n      <td>785</td>\n      <td>male</td>\n      <td>group A</td>\n      <td>associate's degree</td>\n      <td>free/reduced</td>\n      <td>completed</td>\n      <td>NaN</td>\n      <td>sometimes</td>\n      <td>no</td>\n      <td>2.0</td>\n      <td>school_bus</td>\n      <td>5 - 10</td>\n      <td>65</td>\n      <td>60</td>\n      <td>60</td>\n    </tr>\n    <tr>\n      <th>30635</th>\n      <td>794</td>\n      <td>male</td>\n      <td>group C</td>\n      <td>some college</td>\n      <td>standard</td>\n      <td>none</td>\n      <td>married</td>\n      <td>regularly</td>\n      <td>no</td>\n      <td>2.0</td>\n      <td>school_bus</td>\n      <td>5 - 10</td>\n      <td>58</td>\n      <td>53</td>\n      <td>49</td>\n    </tr>\n    <tr>\n      <th>30636</th>\n      <td>816</td>\n      <td>female</td>\n      <td>group D</td>\n      <td>high school</td>\n      <td>standard</td>\n      <td>none</td>\n      <td>single</td>\n      <td>sometimes</td>\n      <td>no</td>\n      <td>2.0</td>\n      <td>school_bus</td>\n      <td>5 - 10</td>\n      <td>59</td>\n      <td>61</td>\n      <td>65</td>\n    </tr>\n    <tr>\n      <th>30637</th>\n      <td>890</td>\n      <td>male</td>\n      <td>group E</td>\n      <td>high school</td>\n      <td>standard</td>\n      <td>none</td>\n      <td>single</td>\n      <td>regularly</td>\n      <td>no</td>\n      <td>1.0</td>\n      <td>private</td>\n      <td>5 - 10</td>\n      <td>58</td>\n      <td>53</td>\n      <td>51</td>\n    </tr>\n    <tr>\n      <th>30638</th>\n      <td>911</td>\n      <td>female</td>\n      <td>NaN</td>\n      <td>high school</td>\n      <td>free/reduced</td>\n      <td>completed</td>\n      <td>married</td>\n      <td>sometimes</td>\n      <td>no</td>\n      <td>1.0</td>\n      <td>private</td>\n      <td>5 - 10</td>\n      <td>61</td>\n      <td>70</td>\n      <td>67</td>\n    </tr>\n    <tr>\n      <th>30639</th>\n      <td>934</td>\n      <td>female</td>\n      <td>group D</td>\n      <td>associate's degree</td>\n      <td>standard</td>\n      <td>completed</td>\n      <td>married</td>\n      <td>regularly</td>\n      <td>no</td>\n      <td>3.0</td>\n      <td>school_bus</td>\n      <td>5 - 10</td>\n      <td>82</td>\n      <td>90</td>\n      <td>93</td>\n    </tr>\n    <tr>\n      <th>30640</th>\n      <td>960</td>\n      <td>male</td>\n      <td>group B</td>\n      <td>some college</td>\n      <td>standard</td>\n      <td>none</td>\n      <td>married</td>\n      <td>never</td>\n      <td>no</td>\n      <td>1.0</td>\n      <td>school_bus</td>\n      <td>5 - 10</td>\n      <td>64</td>\n      <td>60</td>\n      <td>58</td>\n    </tr>\n  </tbody>\n</table>\n</div>"
     },
     "execution_count": 107,
     "metadata": {},
     "output_type": "execute_result"
    }
   ],
   "source": [
    "df.tail(8)"
   ]
  },
  {
   "cell_type": "code",
   "execution_count": 108,
   "outputs": [
    {
     "data": {
      "text/plain": "30641"
     },
     "execution_count": 108,
     "metadata": {},
     "output_type": "execute_result"
    }
   ],
   "source": [
    "# task 1\n",
    "students_count = df.shape[0]\n",
    "students_count"
   ],
   "metadata": {
    "collapsed": false,
    "ExecuteTime": {
     "end_time": "2023-05-05T07:18:26.863049552Z",
     "start_time": "2023-05-05T07:18:26.856158352Z"
    }
   }
  },
  {
   "cell_type": "code",
   "execution_count": 113,
   "id": "6bd8c824",
   "metadata": {
    "ExecuteTime": {
     "end_time": "2023-05-05T07:18:46.488398614Z",
     "start_time": "2023-05-05T07:18:46.480422978Z"
    }
   },
   "outputs": [
    {
     "data": {
      "text/plain": "'49.7%'"
     },
     "execution_count": 113,
     "metadata": {},
     "output_type": "execute_result"
    }
   ],
   "source": [
    "#task 2\n",
    "male_count = df[df['Gender'] == 'male'].shape[0]\n",
    "f\"{male_count/students_count:0.1%}\""
   ]
  },
  {
   "cell_type": "code",
   "execution_count": 114,
   "id": "24abd00a",
   "metadata": {
    "ExecuteTime": {
     "end_time": "2023-05-05T07:19:03.521325984Z",
     "start_time": "2023-05-05T07:19:03.516738573Z"
    }
   },
   "outputs": [
    {
     "data": {
      "text/plain": "'50.3%'"
     },
     "execution_count": 114,
     "metadata": {},
     "output_type": "execute_result"
    }
   ],
   "source": [
    "#task 3\n",
    "female_count = df[df['Gender'] == 'female'].shape[0]\n",
    "f\"{female_count/students_count:0.1%}\""
   ]
  },
  {
   "cell_type": "code",
   "execution_count": 115,
   "id": "e39cbdc5",
   "metadata": {
    "ExecuteTime": {
     "end_time": "2023-05-05T07:19:17.747999854Z",
     "start_time": "2023-05-05T07:19:17.705763449Z"
    }
   },
   "outputs": [
    {
     "data": {
      "text/plain": "'group E'"
     },
     "execution_count": 115,
     "metadata": {},
     "output_type": "execute_result"
    }
   ],
   "source": [
    "# task 4\n",
    "df.groupby(by=['EthnicGroup'])['MathScore'].mean().idxmax()"
   ]
  },
  {
   "cell_type": "code",
   "execution_count": 116,
   "id": "9beb0783",
   "metadata": {
    "ExecuteTime": {
     "end_time": "2023-05-05T07:19:21.673148567Z",
     "start_time": "2023-05-05T07:19:21.668387629Z"
    }
   },
   "outputs": [
    {
     "data": {
      "text/plain": "'group E'"
     },
     "execution_count": 116,
     "metadata": {},
     "output_type": "execute_result"
    }
   ],
   "source": [
    "# task 5\n",
    "df.groupby(by=['EthnicGroup'])['ReadingScore'].mean().idxmax()"
   ]
  },
  {
   "cell_type": "code",
   "execution_count": 117,
   "id": "49c402fe",
   "metadata": {
    "ExecuteTime": {
     "end_time": "2023-05-05T07:19:26.232959707Z",
     "start_time": "2023-05-05T07:19:26.226142748Z"
    }
   },
   "outputs": [
    {
     "data": {
      "text/plain": "'group E'"
     },
     "execution_count": 117,
     "metadata": {},
     "output_type": "execute_result"
    }
   ],
   "source": [
    "# task 6\n",
    "df.groupby(by=['EthnicGroup'])['WritingScore'].mean().idxmax()"
   ]
  },
  {
   "cell_type": "code",
   "execution_count": 118,
   "id": "ca41972e",
   "metadata": {
    "ExecuteTime": {
     "end_time": "2023-05-05T07:19:35.160258552Z",
     "start_time": "2023-05-05T07:19:35.152889050Z"
    }
   },
   "outputs": [
    {
     "data": {
      "text/plain": "69.5466599698644"
     },
     "execution_count": 118,
     "metadata": {},
     "output_type": "execute_result"
    }
   ],
   "source": [
    "# task 7\n",
    "df[df['TestPrep'] == 'completed']['MathScore'].mean()"
   ]
  },
  {
   "cell_type": "code",
   "execution_count": 119,
   "id": "395f7116",
   "metadata": {
    "ExecuteTime": {
     "end_time": "2023-05-05T07:19:42.947072853Z",
     "start_time": "2023-05-05T07:19:42.906067343Z"
    }
   },
   "outputs": [
    {
     "data": {
      "text/plain": "73.73299849321948"
     },
     "execution_count": 119,
     "metadata": {},
     "output_type": "execute_result"
    }
   ],
   "source": [
    "# task 8\n",
    "df[df['TestPrep'] == 'completed']['ReadingScore'].mean()"
   ]
  },
  {
   "cell_type": "code",
   "execution_count": 120,
   "id": "cbb1447e",
   "metadata": {
    "ExecuteTime": {
     "end_time": "2023-05-05T07:19:53.202348437Z",
     "start_time": "2023-05-05T07:19:53.194299853Z"
    }
   },
   "outputs": [
    {
     "data": {
      "text/plain": "72.66097438473129"
     },
     "execution_count": 120,
     "metadata": {},
     "output_type": "execute_result"
    }
   ],
   "source": [
    "# task 9\n",
    "df[df['TestPrep'] == 'completed'][['WritingScore', 'MathScore', 'ReadingScore']].mean(axis=1).mean()"
   ]
  },
  {
   "cell_type": "code",
   "execution_count": 121,
   "outputs": [
    {
     "data": {
      "text/plain": "16844"
     },
     "execution_count": 121,
     "metadata": {},
     "output_type": "execute_result"
    }
   ],
   "source": [
    "# task 10\n",
    "df[df['ParentMaritalStatus'] == 'married'].shape[0]"
   ],
   "metadata": {
    "collapsed": false,
    "ExecuteTime": {
     "end_time": "2023-05-05T07:20:03.395301160Z",
     "start_time": "2023-05-05T07:20:03.389015805Z"
    }
   }
  },
  {
   "cell_type": "code",
   "execution_count": 122,
   "outputs": [
    {
     "data": {
      "text/plain": "7097"
     },
     "execution_count": 122,
     "metadata": {},
     "output_type": "execute_result"
    }
   ],
   "source": [
    "# task 11\n",
    "df[df['ParentMaritalStatus'] == 'single'].shape[0]"
   ],
   "metadata": {
    "collapsed": false,
    "ExecuteTime": {
     "end_time": "2023-05-05T07:20:06.225089155Z",
     "start_time": "2023-05-05T07:20:06.219149653Z"
    }
   }
  },
  {
   "cell_type": "code",
   "execution_count": 123,
   "outputs": [
    {
     "data": {
      "text/plain": "(67.83915500787548, 64.17107892107892)"
     },
     "execution_count": 123,
     "metadata": {},
     "output_type": "execute_result"
    }
   ],
   "source": [
    "# task 12\n",
    "df[df['PracticeSport'] == 'regularly']['MathScore'].mean(), df[df['PracticeSport'] == 'never']['MathScore'].mean()"
   ],
   "metadata": {
    "collapsed": false,
    "ExecuteTime": {
     "end_time": "2023-05-05T07:20:30.667209213Z",
     "start_time": "2023-05-05T07:20:30.625297532Z"
    }
   }
  },
  {
   "cell_type": "code",
   "execution_count": 124,
   "outputs": [
    {
     "data": {
      "text/plain": "(69.94301862318169, 68.33766233766234)"
     },
     "execution_count": 124,
     "metadata": {},
     "output_type": "execute_result"
    }
   ],
   "source": [
    "# task 13\n",
    "df[df['PracticeSport'] == 'regularly']['ReadingScore'].mean(), df[df['PracticeSport'] == 'never']['ReadingScore'].mean()"
   ],
   "metadata": {
    "collapsed": false,
    "ExecuteTime": {
     "end_time": "2023-05-05T07:20:30.830194745Z",
     "start_time": "2023-05-05T07:20:30.822280926Z"
    }
   }
  },
  {
   "cell_type": "code",
   "execution_count": 125,
   "outputs": [
    {
     "data": {
      "text/plain": "16145"
     },
     "execution_count": 125,
     "metadata": {},
     "output_type": "execute_result"
    }
   ],
   "source": [
    "# task 14\n",
    "df[df['TransportMeans'] == 'school_bus'].shape[0]"
   ],
   "metadata": {
    "collapsed": false,
    "ExecuteTime": {
     "end_time": "2023-05-05T07:20:39.918204199Z",
     "start_time": "2023-05-05T07:20:39.499687549Z"
    }
   }
  },
  {
   "cell_type": "code",
   "execution_count": 126,
   "outputs": [
    {
     "data": {
      "text/plain": "11362"
     },
     "execution_count": 126,
     "metadata": {},
     "output_type": "execute_result"
    }
   ],
   "source": [
    "# task 15\n",
    "df[df['TransportMeans'] == 'private'].shape[0]"
   ],
   "metadata": {
    "collapsed": false,
    "ExecuteTime": {
     "end_time": "2023-05-05T07:20:43.247218443Z",
     "start_time": "2023-05-05T07:20:43.241682472Z"
    }
   }
  },
  {
   "cell_type": "code",
   "execution_count": 92,
   "outputs": [],
   "source": [
    "df = df.dropna()\n",
    "label_encoder = LabelEncoder()\n",
    "categorical_columns = ['Gender', 'EthnicGroup', 'ParentEduc', 'LunchType', 'ParentMaritalStatus', 'PracticeSport', 'IsFirstChild', 'TransportMeans', 'WklyStudyHours']\n",
    "\n",
    "for column in categorical_columns:\n",
    "    df[column] = label_encoder.fit_transform(df[column])"
   ],
   "metadata": {
    "collapsed": false,
    "ExecuteTime": {
     "end_time": "2023-05-05T07:15:17.576435242Z",
     "start_time": "2023-05-05T07:15:17.152173513Z"
    }
   }
  },
  {
   "cell_type": "code",
   "execution_count": 93,
   "outputs": [],
   "source": [
    "X = df.drop('TestPrep', axis=1)\n",
    "y = df['TestPrep']\n",
    "\n",
    "X_train, X_test, y_train, y_test = train_test_split(X, y, test_size=0.2, random_state=42)"
   ],
   "metadata": {
    "collapsed": false,
    "ExecuteTime": {
     "end_time": "2023-05-05T07:15:18.017154311Z",
     "start_time": "2023-05-05T07:15:17.620585144Z"
    }
   }
  },
  {
   "cell_type": "code",
   "execution_count": 94,
   "outputs": [
    {
     "data": {
      "text/plain": "RandomForestClassifier(random_state=42)",
      "text/html": "<style>#sk-container-id-1 {color: black;background-color: white;}#sk-container-id-1 pre{padding: 0;}#sk-container-id-1 div.sk-toggleable {background-color: white;}#sk-container-id-1 label.sk-toggleable__label {cursor: pointer;display: block;width: 100%;margin-bottom: 0;padding: 0.3em;box-sizing: border-box;text-align: center;}#sk-container-id-1 label.sk-toggleable__label-arrow:before {content: \"▸\";float: left;margin-right: 0.25em;color: #696969;}#sk-container-id-1 label.sk-toggleable__label-arrow:hover:before {color: black;}#sk-container-id-1 div.sk-estimator:hover label.sk-toggleable__label-arrow:before {color: black;}#sk-container-id-1 div.sk-toggleable__content {max-height: 0;max-width: 0;overflow: hidden;text-align: left;background-color: #f0f8ff;}#sk-container-id-1 div.sk-toggleable__content pre {margin: 0.2em;color: black;border-radius: 0.25em;background-color: #f0f8ff;}#sk-container-id-1 input.sk-toggleable__control:checked~div.sk-toggleable__content {max-height: 200px;max-width: 100%;overflow: auto;}#sk-container-id-1 input.sk-toggleable__control:checked~label.sk-toggleable__label-arrow:before {content: \"▾\";}#sk-container-id-1 div.sk-estimator input.sk-toggleable__control:checked~label.sk-toggleable__label {background-color: #d4ebff;}#sk-container-id-1 div.sk-label input.sk-toggleable__control:checked~label.sk-toggleable__label {background-color: #d4ebff;}#sk-container-id-1 input.sk-hidden--visually {border: 0;clip: rect(1px 1px 1px 1px);clip: rect(1px, 1px, 1px, 1px);height: 1px;margin: -1px;overflow: hidden;padding: 0;position: absolute;width: 1px;}#sk-container-id-1 div.sk-estimator {font-family: monospace;background-color: #f0f8ff;border: 1px dotted black;border-radius: 0.25em;box-sizing: border-box;margin-bottom: 0.5em;}#sk-container-id-1 div.sk-estimator:hover {background-color: #d4ebff;}#sk-container-id-1 div.sk-parallel-item::after {content: \"\";width: 100%;border-bottom: 1px solid gray;flex-grow: 1;}#sk-container-id-1 div.sk-label:hover label.sk-toggleable__label {background-color: #d4ebff;}#sk-container-id-1 div.sk-serial::before {content: \"\";position: absolute;border-left: 1px solid gray;box-sizing: border-box;top: 0;bottom: 0;left: 50%;z-index: 0;}#sk-container-id-1 div.sk-serial {display: flex;flex-direction: column;align-items: center;background-color: white;padding-right: 0.2em;padding-left: 0.2em;position: relative;}#sk-container-id-1 div.sk-item {position: relative;z-index: 1;}#sk-container-id-1 div.sk-parallel {display: flex;align-items: stretch;justify-content: center;background-color: white;position: relative;}#sk-container-id-1 div.sk-item::before, #sk-container-id-1 div.sk-parallel-item::before {content: \"\";position: absolute;border-left: 1px solid gray;box-sizing: border-box;top: 0;bottom: 0;left: 50%;z-index: -1;}#sk-container-id-1 div.sk-parallel-item {display: flex;flex-direction: column;z-index: 1;position: relative;background-color: white;}#sk-container-id-1 div.sk-parallel-item:first-child::after {align-self: flex-end;width: 50%;}#sk-container-id-1 div.sk-parallel-item:last-child::after {align-self: flex-start;width: 50%;}#sk-container-id-1 div.sk-parallel-item:only-child::after {width: 0;}#sk-container-id-1 div.sk-dashed-wrapped {border: 1px dashed gray;margin: 0 0.4em 0.5em 0.4em;box-sizing: border-box;padding-bottom: 0.4em;background-color: white;}#sk-container-id-1 div.sk-label label {font-family: monospace;font-weight: bold;display: inline-block;line-height: 1.2em;}#sk-container-id-1 div.sk-label-container {text-align: center;}#sk-container-id-1 div.sk-container {/* jupyter's `normalize.less` sets `[hidden] { display: none; }` but bootstrap.min.css set `[hidden] { display: none !important; }` so we also need the `!important` here to be able to override the default hidden behavior on the sphinx rendered scikit-learn.org. See: https://github.com/scikit-learn/scikit-learn/issues/21755 */display: inline-block !important;position: relative;}#sk-container-id-1 div.sk-text-repr-fallback {display: none;}</style><div id=\"sk-container-id-1\" class=\"sk-top-container\"><div class=\"sk-text-repr-fallback\"><pre>RandomForestClassifier(random_state=42)</pre><b>In a Jupyter environment, please rerun this cell to show the HTML representation or trust the notebook. <br />On GitHub, the HTML representation is unable to render, please try loading this page with nbviewer.org.</b></div><div class=\"sk-container\" hidden><div class=\"sk-item\"><div class=\"sk-estimator sk-toggleable\"><input class=\"sk-toggleable__control sk-hidden--visually\" id=\"sk-estimator-id-1\" type=\"checkbox\" checked><label for=\"sk-estimator-id-1\" class=\"sk-toggleable__label sk-toggleable__label-arrow\">RandomForestClassifier</label><div class=\"sk-toggleable__content\"><pre>RandomForestClassifier(random_state=42)</pre></div></div></div></div></div>"
     },
     "execution_count": 94,
     "metadata": {},
     "output_type": "execute_result"
    }
   ],
   "source": [
    "model = RandomForestClassifier(n_estimators=100, random_state=42)\n",
    "model.fit(X_train, y_train)"
   ],
   "metadata": {
    "collapsed": false,
    "ExecuteTime": {
     "end_time": "2023-05-05T07:15:20.310563413Z",
     "start_time": "2023-05-05T07:15:18.413839225Z"
    }
   }
  },
  {
   "cell_type": "code",
   "execution_count": 95,
   "outputs": [
    {
     "name": "stdout",
     "output_type": "stream",
     "text": [
      "Accuracy: 0.7227505486466715\n",
      "Classification Report:\n",
      "               precision    recall  f1-score   support\n",
      "\n",
      "   completed       0.65      0.43      0.52      1889\n",
      "        none       0.74      0.88      0.81      3579\n",
      "\n",
      "    accuracy                           0.72      5468\n",
      "   macro avg       0.70      0.65      0.66      5468\n",
      "weighted avg       0.71      0.72      0.71      5468\n",
      "\n"
     ]
    }
   ],
   "source": [
    "y_pred = model.predict(X_test)\n",
    "\n",
    "accuracy = accuracy_score(y_test, y_pred)\n",
    "print(\"Accuracy:\", accuracy)\n",
    "\n",
    "report = classification_report(y_test, y_pred)\n",
    "print(\"Classification Report:\\n\", report)\n"
   ],
   "metadata": {
    "collapsed": false,
    "ExecuteTime": {
     "end_time": "2023-05-05T07:15:22.815128145Z",
     "start_time": "2023-05-05T07:15:22.564459890Z"
    }
   }
  }
 ],
 "metadata": {
  "kernelspec": {
   "display_name": "Python 3",
   "language": "python",
   "name": "python3"
  },
  "language_info": {
   "codemirror_mode": {
    "name": "ipython",
    "version": 3
   },
   "file_extension": ".py",
   "mimetype": "text/x-python",
   "name": "python",
   "nbconvert_exporter": "python",
   "pygments_lexer": "ipython3",
   "version": "3.8.8"
  }
 },
 "nbformat": 4,
 "nbformat_minor": 5
}
