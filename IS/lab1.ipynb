{
 "cells": [
  {
   "cell_type": "markdown",
   "metadata": {},
   "source": [
    "\n",
    "# <center>**Norway**</center>\n",
    "## <div style=\"color: red;border-radius:8px;border:4px double brown;background: #eee;text-align: center\">Officially the Kingdom of Norway</div>\n",
    "\n",
    "\n",
    "<center>\n",
    "<img src='https://upload.wikimedia.org/wikipedia/commons/d/d9/Flag_of_Norway.svg' width=\"200px\" height=\"200px\"/>\n",
    "<a href=\"https://en.wikipedia.org/wiki/Flag_of_Norway\">Flag</a>\n",
    "</center>\n",
    "\n",
    "<table>\n",
    "    <tr>\n",
    "        <th colspan=\"2\">Common data</th>\n",
    "    </tr>\n",
    "    <tr>\n",
    "        <td>Capital</td>\n",
    "        <td>Oslo</td>\n",
    "    </tr>\n",
    "    <tr>\n",
    "        <td>Ethnic groups</td>\n",
    "        <td>\n",
    "            <li>81.5% Norwegian</li>\n",
    "            <li>18.5% non-Norwegian</li>\n",
    "        </td>\n",
    "    </tr>\n",
    "    <tr>\n",
    "        <td>Population</td>\n",
    "        <td>5,488,984 (2023 estimate)</td>\n",
    "    </tr>\n",
    "    <tr>\n",
    "        <td>Official languages</td>\n",
    "        <td>Norwegian, Sami</td>\n",
    "    </tr>\n",
    "    <tr>\n",
    "        <td>Area</td>\n",
    "        <td>385,207km<sup>2</sup></td>\n",
    "    </tr>\n",
    "    <tr>\n",
    "        <td>Monarch</td>\n",
    "        <td>Harald V</td>\n",
    "    </tr>\n",
    "    <tr>\n",
    "        <td>Prime minister</td>\n",
    "        <td>Jonas Gahr Støre</td>\n",
    "    </tr>\n",
    "</table>\n",
    "\n",
    "Famous people from Norway:\n",
    "<ul>\n",
    "    <li><i>Cinema</li>\n",
    "    <ol>\n",
    "        <li><a href=\"https://en.wikipedia.org/wiki/Liv_Ullmann\" title=\"Liv Ullmann\">Liv Ullmann</a></li>\n",
    "        <li><a href=\"https://en.wikipedia.org/wiki/Kristofer_Hivju\" title=\"Kristofer Hivju\">Kristofer Hivju</a></li>\n",
    "        <li><a href=\"https://en.wikipedia.org/wiki/Ingrid_Bols%C3%B8_Berdal\" title=\"Ingrid Bolsø Berdal\">Ingrid Bolsø Berdal</a></li>\n",
    "        <li><a href=\"https://en.wikipedia.org/wiki/Henki_Kolstad\" title=\"Henki Kolstad\">Henki Kolstad</a></li>\n",
    "        <li><a href=\"https://en.wikipedia.org/wiki/Maria_Bonnevie\" title=\"Maria Bonnevie\">Maria Bonnevie</a></li>\n",
    "    </ol>\n",
    "    <li><i>Music</li>\n",
    "    <ol>\n",
    "        <li><a href=\"https://en.wikipedia.org/wiki/Edvard_Grieg\" title=\"Edvard Grieg\">Edvard Grieg</a></li>\n",
    "        <li><a href=\"https://en.wikipedia.org/wiki/Rikard_Nordraak\" title=\"Rikard Nordraak\">Rikard Nordraak</a></li>\n",
    "        <li><a href=\"https://en.wikipedia.org/wiki/Johan_Svendsen\" title=\"Johan Svendsen\">Johan Svendsen</a></li>\n",
    "        <li><a href=\"https://en.wikipedia.org/wiki/Leif_Ove_Andsnes\" title=\"Leif Ove Andsnes\">Leif Ove Andsnes</a></li>\n",
    "    </ol>\n",
    "    <li><i>Literature</li>\n",
    "    <ol>\n",
    "        <li><a href=\"https://en.wikipedia.org/wiki/Dag_Solstad\" title=\"Dag Solstad\">Dag Solstad</a></li>\n",
    "        <li><a href=\"https://en.wikipedia.org/wiki/Jon_Fosse\" title=\"Jon Fosse\">Jon Fosse</a></li>\n",
    "        <li><a href=\"https://en.wikipedia.org/wiki/Cora_Sandel\" title=\"Cora Sandel\">Cora Sandel</a></li>\n",
    "        <li><a href=\"https://en.wikipedia.org/wiki/Olav_Duun\" title=\"Olav Duun\">Olav Duun</a></li>\n",
    "        <li><a href=\"https://en.wikipedia.org/wiki/Olav_H._Hauge\" title=\"Olav H. Hauge\">Olav H. Hauge</a></li>\n",
    "    </ol>\n",
    "    <li><i>Architecture</li>\n",
    "    <ol>\n",
    "        <li><a href=\"https://en.wikipedia.org/wiki/Olav_Selvaag\" title=\"Olav Selvaag\">Olav Selvaag</a></li>\n",
    "        <li><a href=\"https://en.wikipedia.org/wiki/Lars_Backer\" title=\"Lars Backer\">Lars Backer</a></li>\n",
    "        <li><a href=\"https://en.wikipedia.org/wiki/Gudolf_Blakstad\" title=\"Gudolf Blakstad\">Gudolf Blakstad</a></li>\n",
    "    </ol>\n",
    "    <li><i>Sports</li>\n",
    "    <ol>\n",
    "        <li><a href=\"https://en.wikipedia.org/wiki/Marit_Bjørgen\" title=\"Marit Bjørgen\">Marit Bjørgen</a></li>\n",
    "        <li><a href=\"https://en.wikipedia.org/wiki/Halvor_Hagen\" title=\"Halvor Hagen\">Halvor Hagen</a></li>\n",
    "        <li><a href=\"https://en.wikipedia.org/wiki/Bill_Irgens\" title=\"Bill Irgens\">Bill Irgens</a></li>\n",
    "        <li><a href=\"https://en.wikipedia.org/wiki/Mike_Mock\" title=\"Mike Mock\">Mike Mock</a></li>\n",
    "    </ol>\n",
    "</ul>\n"
   ]
  },
  {
   "cell_type": "code",
   "execution_count": null,
   "metadata": {},
   "outputs": [],
   "source": [
    "def task_10():\n",
    "    try:\n",
    "        number = int(input(\"Enter your number:\"))\n",
    "    except ValueError:\n",
    "        print(\"This is not a number\")\n",
    "        return\n",
    "    if number <= 0:\n",
    "        print(\"Expect positive number\")\n",
    "        return\n",
    "    for a in range(int(number ** 0.5) // 2 + 1):\n",
    "        b = (number - a * a) ** 0.5\n",
    "        if not b % 1:\n",
    "            b = int(b)\n",
    "            break\n",
    "    else:\n",
    "        print(f\"The {number=} cannot be represented squares of integers\")\n",
    "        return\n",
    "    print(f\"{a}^2 + {b}^2 = {number}\")"
   ]
  },
  {
   "cell_type": "code",
   "execution_count": 38,
   "metadata": {},
   "outputs": [
    {
     "name": "stdout",
     "output_type": "stream",
     "text": [
      "Enter your number:-5\n",
      "Expect positive number\n"
     ]
    }
   ],
   "source": [
    "task_10()"
   ]
  },
  {
   "cell_type": "code",
   "execution_count": 29,
   "metadata": {},
   "outputs": [
    {
     "name": "stdout",
     "output_type": "stream",
     "text": [
      "Enter your number:qwe\n",
      "This is not a number\n"
     ]
    }
   ],
   "source": [
    "task_10()"
   ]
  },
  {
   "cell_type": "code",
   "execution_count": 31,
   "metadata": {},
   "outputs": [
    {
     "name": "stdout",
     "output_type": "stream",
     "text": [
      "Enter your number:643546\n",
      "145^2 + 789^2 = 643546\n"
     ]
    }
   ],
   "source": [
    "task_10()"
   ]
  },
  {
   "cell_type": "code",
   "execution_count": 39,
   "metadata": {},
   "outputs": [
    {
     "name": "stdout",
     "output_type": "stream",
     "text": [
      "Enter your number:5\n",
      "1^2 + 2^2 = 5\n",
      "\n"
     ]
    }
   ],
   "source": [
    "task_10()"
   ]
  },
  {
   "cell_type": "code",
   "execution_count": 40,
   "metadata": {},
   "outputs": [
    {
     "name": "stdout",
     "output_type": "stream",
     "text": [
      "Enter your number:16\n",
      "0^2 + 4^2 = 16\n",
      "\n"
     ]
    }
   ],
   "source": [
    "task_10()"
   ]
  },
  {
   "cell_type": "code",
   "execution_count": 41,
   "metadata": {},
   "outputs": [
    {
     "name": "stdout",
     "output_type": "stream",
     "text": [
      "Enter your number:7\n",
      "The number=7 cannot be represented squares of integers\n"
     ]
    }
   ],
   "source": [
    "task_10()"
   ]
  }
 ],
 "metadata": {
  "kernelspec": {
   "display_name": "Python 3 (ipykernel)",
   "language": "python",
   "name": "python3"
  },
  "language_info": {
   "codemirror_mode": {
    "name": "ipython",
    "version": 3
   },
   "file_extension": ".py",
   "mimetype": "text/x-python",
   "name": "python",
   "nbconvert_exporter": "python",
   "pygments_lexer": "ipython3",
   "version": "3.10.6"
  }
 },
 "nbformat": 4,
 "nbformat_minor": 1
}
